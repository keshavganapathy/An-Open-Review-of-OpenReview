{
 "cells": [
  {
   "cell_type": "code",
   "execution_count": 1,
   "metadata": {},
   "outputs": [],
   "source": [
    "import numpy as np\n",
    "import pandas as pd\n",
    "import matplotlib.pyplot as plt\n",
    "import statsmodels.api as sm\n",
    "from sklearn.linear_model import LogisticRegression\n",
    "from sklearn.model_selection import train_test_split\n",
    "import seaborn as sns"
   ]
  },
  {
   "cell_type": "code",
   "execution_count": 2,
   "metadata": {},
   "outputs": [],
   "source": [
    "data = pd.read_csv('../dataset_final.csv')"
   ]
  },
  {
   "cell_type": "code",
   "execution_count": 3,
   "metadata": {},
   "outputs": [],
   "source": [
    "# convert decision to binary classes accept, reject\n",
    "decision_to_binary = {'Accept (Poster)': 1, 'Accept (Oral)': 1, 'Accept (Talk)': 1, 'Accept (Spotlight)': 1, 'Invite to Workshop Track': 0, 'Withdrawn': 0, 'Reject': 0}"
   ]
  },
  {
   "cell_type": "code",
   "execution_count": 4,
   "metadata": {},
   "outputs": [],
   "source": [
    "scores = []\n",
    "citations_per_paper = []\n",
    "top_10_indicator = []\n",
    "\n",
    "y = []\n",
    "\n",
    "for ratings, rankings, cits, pubs, decision, year, in zip(data['ratings'], data['csranking'], data['authors_citations'], data['authors_publications'], data['decisions'], data['year']):\n",
    "    if year == 2020 and pd.notnull(rankings):\n",
    "        # get decision\n",
    "        binary_decision = decision_to_binary.get(decision)\n",
    "        \n",
    "        # get distinct rankings\n",
    "        ranks = rankings.split(';')\n",
    "        ranks = [int(x) for x in ranks]\n",
    "        ranks_set = set(ranks)\n",
    "        ranks_set.discard(-1)\n",
    "        \n",
    "        # get mean reviewer score\n",
    "        rates = ratings.split(';')\n",
    "        rates = [int(x) for x in rates]\n",
    "        rating_avg = np.average(rates)\n",
    "        \n",
    "        # get author citatins and publications\n",
    "        cits_last = int(cits.split(';')[-1])\n",
    "        pubs_last = int(pubs.split(';')[-1])\n",
    "        \n",
    "        # discard papers with no last author data\n",
    "        if cits_last == -1:\n",
    "            continue\n",
    "        if pubs_last == -1:\n",
    "            continue\n",
    "            \n",
    "        # for each distinct rank\n",
    "        for rank in ranks_set:\n",
    "            scores.append(rating_avg)\n",
    "            citations_per_paper.append(cits_last/pubs_last + 1)\n",
    "            y.append(binary_decision)\n",
    "                \n",
    "            if 1 <= rank <= 10:\n",
    "                top_10_indicator.append(1)\n",
    "            else:\n",
    "                top_10_indicator.append(0)\n",
    "        \n"
   ]
  },
  {
   "cell_type": "code",
   "execution_count": 5,
   "metadata": {},
   "outputs": [
    {
     "name": "stdout",
     "output_type": "stream",
     "text": [
      "2.948196187247188 1.2797669207629767\n"
     ]
    },
    {
     "data": {
      "image/png": "[encoded data removed]",
      "text/plain": [
       "<Figure size 432x288 with 1 Axes>"
      ]
     },
     "metadata": {
      "needs_background": "light"
     },
     "output_type": "display_data"
    }
   ],
   "source": [
    "# plot last author reputation index\n",
    "\n",
    "sns.set_style({'font.family':'serif','font.serif':['Times New Roman']})\n",
    "\n",
    "g = sns.distplot(np.log(citations_per_paper), color='#3274a1', hist_kws={'alpha':1}, kde_kws={'color':'black'})\n",
    "plt.xlabel('log(citations/publications + 1)', fontsize=20)\n",
    "plt.ylabel('Density', fontsize=20)\n",
    "\n",
    "#plt.savefig('citations_per_publication_last.svg')\n",
    "print(np.mean(np.log(citations_per_paper)), np.std(np.log(citations_per_paper)))"
   ]
  },
  {
   "cell_type": "code",
   "execution_count": 6,
   "metadata": {},
   "outputs": [],
   "source": [
    "X = pd.DataFrame()\n",
    "X['mean reviewer score'] = scores\n",
    "X['reputation index'] = np.log(citations_per_paper)\n",
    "X['top ten school?'] = top_10_indicator\n",
    "X['constant'] = [1] * len(scores)\n",
    "y = np.array(y)"
   ]
  },
  {
   "cell_type": "code",
   "execution_count": 7,
   "metadata": {},
   "outputs": [
    {
     "name": "stdout",
     "output_type": "stream",
     "text": [
      "(2997, 4)\n",
      "(2997,)\n"
     ]
    }
   ],
   "source": [
    "print(X.shape)\n",
    "print(y.shape)"
   ]
  },
  {
   "cell_type": "code",
   "execution_count": 8,
   "metadata": {
    "scrolled": false
   },
   "outputs": [
    {
     "name": "stdout",
     "output_type": "stream",
     "text": [
      "Optimization terminated successfully.\n",
      "         Current function value: 0.219219\n",
      "         Iterations 9\n",
      "                           Logit Regression Results                           \n",
      "==============================================================================\n",
      "Dep. Variable:                      y   No. Observations:                 2997\n",
      "Model:                          Logit   Df Residuals:                     2993\n",
      "Method:                           MLE   Df Model:                            3\n",
      "Date:                Fri, 02 Oct 2020   Pseudo R-squ.:                  0.6384\n",
      "Time:                        02:13:57   Log-Likelihood:                -657.00\n",
      "converged:                       True   LL-Null:                       -1816.9\n",
      "Covariance Type:            nonrobust   LLR p-value:                     0.000\n",
      "=======================================================================================\n",
      "                          coef    std err          z      P>|z|      [0.025      0.975]\n",
      "---------------------------------------------------------------------------------------\n",
      "mean reviewer score     2.4354      0.098     24.807      0.000       2.243       2.628\n",
      "reputation index        0.1302      0.057      2.270      0.023       0.018       0.243\n",
      "top ten school?         0.2969      0.165      1.802      0.072      -0.026       0.620\n",
      "constant              -13.6620      0.562    -24.313      0.000     -14.763     -12.561\n",
      "=======================================================================================\n"
     ]
    }
   ],
   "source": [
    "# fit logistic regression model\n",
    "logreg = sm.Logit(y, X)\n",
    "result = logreg.fit()\n",
    "print(result.summary())"
   ]
  },
  {
   "cell_type": "code",
   "execution_count": 9,
   "metadata": {},
   "outputs": [
    {
     "name": "stdout",
     "output_type": "stream",
     "text": [
      "Accuracy of logistic regression classifier on test set: 0.90\n"
     ]
    }
   ],
   "source": [
    "# compute test accuracy\n",
    "X_train, X_test, y_train, y_test = train_test_split(X, y, test_size=0.3, random_state=0)\n",
    "logreg = LogisticRegression(solver='newton-cg', fit_intercept = True, penalty='none')\n",
    "result = logreg.fit(X_train, y_train)\n",
    "\n",
    "y_pred = result.predict(X_test)\n",
    "\n",
    "print('Accuracy of logistic regression classifier on test set: {:.2f}'.format(logreg.score(X_test, y_test)))"
   ]
  },
  {
   "cell_type": "code",
   "execution_count": 10,
   "metadata": {},
   "outputs": [],
   "source": [
    "scores = []\n",
    "citations_per_paper = []\n",
    "cmu_indicator = []\n",
    "mit_indicator = []\n",
    "cornell_indicator = []\n",
    "\n",
    "y = []\n",
    "\n",
    "for ratings, rankings, cits, pubs, decision, year, in zip(data['ratings'], data['csranking'], data['authors_citations'], data['authors_publications'], data['decisions'], data['year']):\n",
    "    if year == 2020 and pd.notnull(rankings):\n",
    "        # get decision\n",
    "        binary_decision = decision_to_binary.get(decision)\n",
    "        \n",
    "        # get distinct ranks\n",
    "        ranks = rankings.split(';')\n",
    "        ranks = [int(x) for x in ranks]\n",
    "        ranks_set = set(ranks)\n",
    "        ranks_set.discard(-1)\n",
    "        \n",
    "        # get mean reviewer score\n",
    "        rates = ratings.split(';')\n",
    "        rates = [int(x) for x in rates]\n",
    "        rating_avg = np.average(rates)\n",
    "\n",
    "        # get last author citations and publications\n",
    "        cits_last = int(cits.split(';')[-1])\n",
    "        pubs_last = int(pubs.split(';')[-1])\n",
    "\n",
    "        # discard papers with no last author data\n",
    "        if cits_last == -1:\n",
    "            continue\n",
    "        if pubs_last == -1:\n",
    "            continue\n",
    "\n",
    "        # for each distinct rank\n",
    "        for rank in ranks_set:\n",
    "            scores.append(rating_avg)\n",
    "            citations_per_paper.append(cits_last/pubs_last + 1)\n",
    "            y.append(binary_decision)\n",
    "            \n",
    "            # compute indicators for each school\n",
    "            if rank == 1:\n",
    "                cmu_indicator.append(1)\n",
    "                mit_indicator.append(0)\n",
    "                cornell_indicator.append(0)\n",
    "            elif rank == 2:\n",
    "                cmu_indicator.append(0)\n",
    "                mit_indicator.append(1)\n",
    "                cornell_indicator.append(0)\n",
    "            elif rank == 7:\n",
    "                cmu_indicator.append(0)\n",
    "                mit_indicator.append(0)\n",
    "                cornell_indicator.append(1)\n",
    "            else:\n",
    "                cmu_indicator.append(0)\n",
    "                mit_indicator.append(0)\n",
    "                cornell_indicator.append(0)\n"
   ]
  },
  {
   "cell_type": "code",
   "execution_count": 11,
   "metadata": {},
   "outputs": [],
   "source": [
    "X = pd.DataFrame()\n",
    "X['mean reviewer score'] = scores\n",
    "X['reputation index'] = np.log(citations_per_paper)\n",
    "X['CMU'] = cmu_indicator\n",
    "X['MIT'] = mit_indicator\n",
    "X['Cornell'] = cornell_indicator\n",
    "X['constant'] = [1] * len(scores)\n",
    "y = np.array(y)"
   ]
  },
  {
   "cell_type": "code",
   "execution_count": 12,
   "metadata": {},
   "outputs": [
    {
     "name": "stdout",
     "output_type": "stream",
     "text": [
      "(2997, 6)\n",
      "(2997,)\n"
     ]
    }
   ],
   "source": [
    "print(X.shape)\n",
    "print(y.shape)"
   ]
  },
  {
   "cell_type": "code",
   "execution_count": 13,
   "metadata": {},
   "outputs": [
    {
     "name": "stdout",
     "output_type": "stream",
     "text": [
      "Optimization terminated successfully.\n",
      "         Current function value: 0.217961\n",
      "         Iterations 9\n",
      "                           Logit Regression Results                           \n",
      "==============================================================================\n",
      "Dep. Variable:                      y   No. Observations:                 2997\n",
      "Model:                          Logit   Df Residuals:                     2991\n",
      "Method:                           MLE   Df Model:                            5\n",
      "Date:                Fri, 02 Oct 2020   Pseudo R-squ.:                  0.6405\n",
      "Time:                        02:13:57   Log-Likelihood:                -653.23\n",
      "converged:                       True   LL-Null:                       -1816.9\n",
      "Covariance Type:            nonrobust   LLR p-value:                     0.000\n",
      "=======================================================================================\n",
      "                          coef    std err          z      P>|z|      [0.025      0.975]\n",
      "---------------------------------------------------------------------------------------\n",
      "mean reviewer score     2.4511      0.099     24.718      0.000       2.257       2.645\n",
      "reputation index        0.1306      0.057      2.285      0.022       0.019       0.243\n",
      "CMU                     0.6730      0.368      1.829      0.067      -0.048       1.394\n",
      "MIT                     0.6783      0.358      1.895      0.058      -0.023       1.380\n",
      "Cornell                 1.3482      0.611      2.207      0.027       0.151       2.546\n",
      "constant              -13.7425      0.567    -24.238      0.000     -14.854     -12.631\n",
      "=======================================================================================\n"
     ]
    }
   ],
   "source": [
    "# fit logistic regression model\n",
    "logreg = sm.Logit(y, X)\n",
    "result = logreg.fit()\n",
    "print(result.summary())"
   ]
  },
  {
   "cell_type": "code",
   "execution_count": 14,
   "metadata": {},
   "outputs": [
    {
     "name": "stdout",
     "output_type": "stream",
     "text": [
      "Accuracy of logistic regression classifier on test set: 0.90\n"
     ]
    }
   ],
   "source": [
    "# compute test accuracy\n",
    "\n",
    "X_train, X_test, y_train, y_test = train_test_split(X, y, test_size=0.3, random_state=0)\n",
    "logreg = LogisticRegression(solver='newton-cg', fit_intercept = True, penalty='none')\n",
    "result = logreg.fit(X_train, y_train)\n",
    "\n",
    "y_pred = result.predict(X_test)\n",
    "\n",
    "print('Accuracy of logistic regression classifier on test set: {:.2f}'.format(logreg.score(X_test, y_test)))"
   ]
  },
  {
   "cell_type": "code",
   "execution_count": null,
   "metadata": {},
   "outputs": [],
   "source": []
  }
 ],
 "metadata": {
  "kernelspec": {
   "display_name": "Python 3",
   "language": "python",
   "name": "python3"
  },
  "language_info": {
   "codemirror_mode": {
    "name": "ipython",
    "version": 3
   },
   "file_extension": ".py",
   "mimetype": "text/x-python",
   "name": "python",
   "nbconvert_exporter": "python",
   "pygments_lexer": "ipython3",
   "version": "3.8.3"
  }
 },
 "nbformat": 4,
 "nbformat_minor": 4
}
