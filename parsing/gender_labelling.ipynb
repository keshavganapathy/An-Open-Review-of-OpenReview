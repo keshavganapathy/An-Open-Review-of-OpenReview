{
 "cells": [
  {
   "cell_type": "code",
   "execution_count": 20,
   "metadata": {},
   "outputs": [],
   "source": [
    "import numpy as np\n",
    "import pandas as pd\n",
    "import csv"
   ]
  },
  {
   "cell_type": "code",
   "execution_count": 21,
   "metadata": {},
   "outputs": [],
   "source": [
    "data = pd.read_csv('../dataset_final_v3.csv')"
   ]
  },
  {
   "cell_type": "code",
   "execution_count": 22,
   "metadata": {},
   "outputs": [],
   "source": [
    "def append(filename, row):\n",
    "    with open(filename, 'a+', newline='') as infile:\n",
    "        writer = csv.writer(infile)\n",
    "        writer.writerow(row)"
   ]
  },
  {
   "cell_type": "code",
   "execution_count": 19,
   "metadata": {},
   "outputs": [],
   "source": [
    "for authors, genders, year, paper, institution in zip(data['authors'], data['genders'], data['year'], data['paper'], data['institution']):\n",
    "    if year == 2020:\n",
    "        if genders.split(';')[0] != '-1':\n",
    "            continue\n",
    "        authors_split = authors.split(';')\n",
    "        institution_split = str(institution).split(';')\n",
    "        if len(authors_split) == 1:\n",
    "            authors_row = [authors_split[0], '']\n",
    "            institution_row = [institution_split[0], '']\n",
    "        else:\n",
    "            authors_row = [authors_split[0], authors_split[-1]]\n",
    "            institution_row = [institution_split[0], institution_split[-1]]\n",
    "        row = [paper] + institution_row + authors_row\n",
    "        append('gender_labelling.csv', row)"
   ]
  },
  {
   "cell_type": "code",
   "execution_count": null,
   "metadata": {},
   "outputs": [],
   "source": []
  }
 ],
 "metadata": {
  "kernelspec": {
   "display_name": "Python 3",
   "language": "python",
   "name": "python3"
  },
  "language_info": {
   "codemirror_mode": {
    "name": "ipython",
    "version": 3
   },
   "file_extension": ".py",
   "mimetype": "text/x-python",
   "name": "python",
   "nbconvert_exporter": "python",
   "pygments_lexer": "ipython3",
   "version": "3.8.3"
  }
 },
 "nbformat": 4,
 "nbformat_minor": 4
}
