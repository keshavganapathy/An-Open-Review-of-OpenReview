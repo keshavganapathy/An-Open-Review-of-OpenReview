{
 "cells": [
  {
   "cell_type": "code",
   "execution_count": 99,
   "metadata": {},
   "outputs": [],
   "source": [
    "#import dependencies\n",
    "import numpy as np\n",
    "import pandas as pd\n",
    "import matplotlib.pyplot as plt\n",
    "from sklearn.linear_model import LinearRegression\n",
    "from sklearn.preprocessing import PolynomialFeatures\n",
    "import datetime\n",
    "from datetime import date\n",
    "import math\n",
    "import random\n",
    "from rdd import rdd"
   ]
  },
  {
   "cell_type": "code",
   "execution_count": 100,
   "metadata": {},
   "outputs": [],
   "source": [
    "#Load data set here\n",
    "data = pd.read_csv('../dataset_numeric.csv') "
   ]
  },
  {
   "cell_type": "code",
   "execution_count": 101,
   "metadata": {},
   "outputs": [],
   "source": [
    "# Filter by year (int) and paper category (Accept/Reject)\n",
    "\n",
    "year = 2020\n",
    "decision = 'all'\n",
    "decision_to_numeric = {'all': [-1,3], 'accept':[1,3], 'reject':[-1,0], 'poster':[1,1], 'oral':[2,2], 'spotlight':[3,3]\n",
    "                      , 'workshop':[0,0]}\n",
    "\n",
    "if isinstance(year, int):\n",
    "    data = data[data['year'] == year]\n",
    "data = data[(decision_to_numeric[decision][0] <= data['decision']) & (data['decision'] <= decision_to_numeric[decision][1])]\n",
    "\n",
    "# Average score\n",
    "x = data.iloc[:, 3:4].values\n",
    "for i in range (len(x)):\n",
    "    arr = str(x[i][0]).split(\";\")\n",
    "    for j in range (len(arr)):\n",
    "        arr[j] = float(arr[j])\n",
    "    if len(arr) != 0:\n",
    "        val = sum(arr)/len(arr)\n",
    "    x[i] = val\n",
    "    \n",
    "# Citation rate \n",
    "citations = data.iloc[:, 10:11].values\n",
    "citations = [citation[0] for citation in citations]\n",
    "dates = data.iloc[:, 2:3].values\n",
    "now = datetime.datetime.now();\n",
    "for i in range(len(dates)):\n",
    "    arr = dates[i][0].split(\"/\")\n",
    "    d0 = date(int(arr[2]), int(arr[0]), int(arr[1]))\n",
    "    d1 = date(now.year, now.month, now.day)\n",
    "    delta = d1 - d0\n",
    "    # Can either log transform or leave as-is\n",
    "    citations[i] = float(citations[i]/delta.days)**(1/5)"
   ]
  },
  {
   "cell_type": "code",
   "execution_count": 102,
   "metadata": {},
   "outputs": [],
   "source": [
    "# Convert x, citations to np arrays and make new dataframe\n",
    "x = np.array([i[0] for i in x], dtype=float)\n",
    "citations = np.array(citations, dtype=float)\n",
    "data = pd.DataFrame({'x':x, 'citations':citations})"
   ]
  },
  {
   "cell_type": "code",
   "execution_count": 103,
   "metadata": {},
   "outputs": [
    {
     "name": "stdout",
     "output_type": "stream",
     "text": [
      "Optimal bandwidth: 1.6570316979623803\n"
     ]
    }
   ],
   "source": [
    "# Regression dicsontinuity design\n",
    "# Set threshold and find optimal bandwidth\n",
    "threshold = 6.4\n",
    "bandwidth_opt = rdd.optimal_bandwidth(data['citations'], data['x'], cut=threshold)\n",
    "print(\"Optimal bandwidth:\", bandwidth_opt)\n",
    "# Truncate data\n",
    "data_rdd = rdd.truncated_data(data, 'x', bandwidth_opt, cut=threshold)\n"
   ]
  },
  {
   "cell_type": "code",
   "execution_count": 104,
   "metadata": {},
   "outputs": [
    {
     "data": {
      "text/plain": [
       "<matplotlib.collections.PathCollection at 0x157d7126e88>"
      ]
     },
     "execution_count": 104,
     "metadata": {},
     "output_type": "execute_result"
    },
    {
     "data": {
      "image/png": "[encoded data removed]",
      "text/plain": [
       "<Figure size 432x288 with 1 Axes>"
      ]
     },
     "metadata": {
      "needs_background": "light"
     },
     "output_type": "display_data"
    }
   ],
   "source": [
    "plt.scatter(data_rdd['x'], data_rdd['citations'], facecolors='none', edgecolors='r')"
   ]
  },
  {
   "cell_type": "code",
   "execution_count": 105,
   "metadata": {},
   "outputs": [
    {
     "data": {
      "text/plain": [
       "<matplotlib.collections.PathCollection at 0x157d3b2e088>"
      ]
     },
     "execution_count": 105,
     "metadata": {},
     "output_type": "execute_result"
    },
    {
     "data": {
      "image/png": "[encoded data removed]",
      "text/plain": [
       "<Figure size 432x288 with 1 Axes>"
      ]
     },
     "metadata": {
      "needs_background": "light"
     },
     "output_type": "display_data"
    }
   ],
   "source": [
    "data_binned = rdd.bin_data(data_rdd, 'citations', 'x', 100)\n",
    "plt.scatter(data_binned['x'], data_binned['citations'], facecolors='none', edgecolors='r')"
   ]
  },
  {
   "cell_type": "code",
   "execution_count": 106,
   "metadata": {},
   "outputs": [
    {
     "name": "stdout",
     "output_type": "stream",
     "text": [
      "Estimation Equation:\t citations ~ TREATED + x\n",
      "                            WLS Regression Results                            \n",
      "==============================================================================\n",
      "Dep. Variable:              citations   R-squared:                       0.094\n",
      "Model:                            WLS   Adj. R-squared:                  0.092\n",
      "Method:                 Least Squares   F-statistic:                     50.29\n",
      "Date:                Mon, 03 Aug 2020   Prob (F-statistic):           1.65e-21\n",
      "Time:                        23:57:39   Log-Likelihood:                 236.39\n",
      "No. Observations:                 973   AIC:                            -466.8\n",
      "Df Residuals:                     970   BIC:                            -452.1\n",
      "Df Model:                           2                                         \n",
      "Covariance Type:            nonrobust                                         \n",
      "==============================================================================\n",
      "                 coef    std err          t      P>|t|      [0.025      0.975]\n",
      "------------------------------------------------------------------------------\n",
      "Intercept     -0.1297      0.072     -1.793      0.073      -0.272       0.012\n",
      "TREATED       -0.0156      0.023     -0.669      0.504      -0.061       0.030\n",
      "x              0.0802      0.013      6.167      0.000       0.055       0.106\n",
      "==============================================================================\n",
      "Omnibus:                       31.318   Durbin-Watson:                   1.975\n",
      "Prob(Omnibus):                  0.000   Jarque-Bera (JB):               33.778\n",
      "Skew:                          -0.456   Prob(JB):                     4.63e-08\n",
      "Kurtosis:                       3.017   Cond. No.                         76.6\n",
      "==============================================================================\n",
      "\n",
      "Warnings:\n",
      "[1] Standard Errors assume that the covariance matrix of the errors is correctly specified.\n"
     ]
    }
   ],
   "source": [
    "model = rdd.rdd(data_rdd, 'x', 'citations', cut=threshold)\n",
    "print(model.fit().summary())"
   ]
  },
  {
   "cell_type": "code",
   "execution_count": 112,
   "metadata": {
    "scrolled": true
   },
   "outputs": [],
   "source": [
    "data_placebo = rdd.truncated_data(data, 'x', yname='citations', cut=1.01)"
   ]
  },
  {
   "cell_type": "code",
   "execution_count": 114,
   "metadata": {},
   "outputs": [
    {
     "name": "stdout",
     "output_type": "stream",
     "text": [
      "Estimation Equation:\t citations ~ TREATED + x\n",
      "                            WLS Regression Results                            \n",
      "==============================================================================\n",
      "Dep. Variable:              citations   R-squared:                       0.037\n",
      "Model:                            WLS   Adj. R-squared:                  0.031\n",
      "Method:                 Least Squares   F-statistic:                     6.315\n",
      "Date:                Tue, 04 Aug 2020   Prob (F-statistic):            0.00203\n",
      "Time:                        00:03:46   Log-Likelihood:                 125.88\n",
      "No. Observations:                 336   AIC:                            -245.8\n",
      "Df Residuals:                     333   BIC:                            -234.3\n",
      "Df Model:                           2                                         \n",
      "Covariance Type:            nonrobust                                         \n",
      "==============================================================================\n",
      "                 coef    std err          t      P>|t|      [0.025      0.975]\n",
      "------------------------------------------------------------------------------\n",
      "Intercept     -0.0076      0.038     -0.199      0.843      -0.082       0.067\n",
      "TREATED        0.0155      0.042      0.368      0.713      -0.067       0.098\n",
      "x              0.0534      0.031      1.708      0.088      -0.008       0.115\n",
      "==============================================================================\n",
      "Omnibus:                       47.411   Durbin-Watson:                   1.962\n",
      "Prob(Omnibus):                  0.000   Jarque-Bera (JB):               60.160\n",
      "Skew:                           1.009   Prob(JB):                     8.64e-14\n",
      "Kurtosis:                       2.528   Cond. No.                         14.7\n",
      "==============================================================================\n",
      "\n",
      "Warnings:\n",
      "[1] Standard Errors assume that the covariance matrix of the errors is correctly specified.\n"
     ]
    }
   ],
   "source": [
    "model = rdd.rdd(data_placebo, 'x', 'citations', cut=1.01)\n",
    "print(model.fit().summary())"
   ]
  },
  {
   "cell_type": "code",
   "execution_count": null,
   "metadata": {},
   "outputs": [],
   "source": []
  }
 ],
 "metadata": {
  "kernelspec": {
   "display_name": "Python 3",
   "language": "python",
   "name": "python3"
  },
  "language_info": {
   "codemirror_mode": {
    "name": "ipython",
    "version": 3
   },
   "file_extension": ".py",
   "mimetype": "text/x-python",
   "name": "python",
   "nbconvert_exporter": "python",
   "pygments_lexer": "ipython3",
   "version": "3.7.6"
  }
 },
 "nbformat": 4,
 "nbformat_minor": 4
}
